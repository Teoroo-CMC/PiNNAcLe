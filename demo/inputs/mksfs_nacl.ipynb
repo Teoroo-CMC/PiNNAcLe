{
 "cells": [
  {
   "cell_type": "code",
   "execution_count": 49,
   "metadata": {},
   "outputs": [],
   "source": [
    "from collections import OrderedDict\n",
    "import yaml, sys\n",
    "\n",
    "def G2(i, j, rs):\n",
    "    return sfspec({\n",
    "        'i': i,\n",
    "        'j': j,\n",
    "        'type': 'G2',\n",
    "        'eta':  [e/bohr2ang**2 for e in \n",
    "                 [0.001, 0.01, 0.03, 0.06, 0.15, 0.30, 0.60, 1.50]],\n",
    "        'Rs': [0.0]*4+[rs*bohr2ang]*4})\n",
    "\n",
    "def G3(i,j,k,eta_list, z_list):\n",
    "    return sfspec({\n",
    "        'i': i,\n",
    "        'j': j,\n",
    "        'k': k,\n",
    "        'type': 'G3',\n",
    "        'eta': sum([[eta/bohr2ang**2]*2 for eta in eta_list], []),\n",
    "        'lambd': [1.0, -1.0]*len(eta_list),\n",
    "        'zeta': sum([[z]*2 for z in z_list], [])})\n",
    "\n",
    "def float_representer(dumper, value):\n",
    "    text = '{0:4f}'.format(value)\n",
    "    return dumper.represent_scalar(u'tag:yaml.org,2002:float', text)\n",
    "\n",
    "class compactdict( OrderedDict ): pass\n",
    "def compactdict_rep(dumper, data):\n",
    "    return dumper.represent_mapping(u'tag:yaml.org,2002:map', data, flow_style=True)\n",
    "\n",
    "class compactlist( list ): pass\n",
    "def compactlist_rep(dumper, data):\n",
    "    return dumper.represent_sequence(u'tag:yaml.org,2002:seq', data, flow_style=True)\n",
    "\n",
    "yaml.add_representer(float, float_representer)\n",
    "yaml.add_representer(compactdict, compactdict_rep)\n",
    "yaml.add_representer(compactlist, compactlist_rep)"
   ]
  },
  {
   "cell_type": "code",
   "execution_count": 54,
   "metadata": {},
   "outputs": [],
   "source": [
    "bohr2ang = 0.529177\n",
    "\n",
    "\n",
    "sf_spec = [\n",
    "    # water - morawietz\n",
    "    G2( 1,  1, 1.9),\n",
    "    G2( 1,  8, 0.9),\n",
    "    G2( 8,  8, 4.0),\n",
    "    G3( 8,  1,  1, [0.07, 0.03, 0.001], [1.0, 1.0, 4.0]),\n",
    "    G3( 1,  8,  1, [0.07, 0.03, 0.001], [1.0, 1.0, 4.0]),\n",
    "    G3( 1,  8,  8, [0.03, 0.001], [1.0, 4.0]),\n",
    "    G3( 8,  8,  8, [0.03, 0.001], [1.0, 4.0]),\n",
    "    G3( 8,  8,  1, [0.03, 0.001], [1.0, 4.0]),\n",
    "    # sodium - matti\n",
    "    G2(11, 11, 4.0),\n",
    "    G2(11,  8, 3.5),\n",
    "    G2(11,  1, 2.0),\n",
    "    G2( 8, 11, 3.5),\n",
    "    G2( 1, 11, 2.0),\n",
    "    G3( 1, 11,  1, [0.03, 0.001], [1.0, 4.0]),\n",
    "    G3( 1, 11,  8, [0.03, 0.001], [1.0, 4.0]),\n",
    "    G3( 1, 11, 11, [0.03, 0.001], [1.0, 4.0]),\n",
    "    G3( 8, 11,  8, [0.03, 0.001], [1.0, 4.0]),\n",
    "    G3( 8, 11, 11, [0.03, 0.001], [1.0, 4.0]),\n",
    "    G3(11, 11, 11, [0.03, 0.001], [1.0, 4.0]),\n",
    "    G3(11,  8,  1, [0.03, 0.001], [1.0, 4.0]),\n",
    "    G3(11,  8,  8, [0.03, 0.001], [1.0, 4.0]),\n",
    "    # chlorine -\n",
    "    G2(17, 17, 5.0),\n",
    "    G2(17,  8, 3.5),\n",
    "    G2(17,  1, 2.0),\n",
    "    G2( 8, 17, 3.5),\n",
    "    G2( 1, 17, 2.0),\n",
    "    G3( 1, 17,  1, [0.03, 0.001], [1.0, 4.0]),\n",
    "    G3( 1, 17,  8, [0.03, 0.001], [1.0, 4.0]),\n",
    "    G3( 1, 17, 17, [0.03, 0.001], [1.0, 4.0]),\n",
    "    G3( 8, 17,  8, [0.03, 0.001], [1.0, 4.0]),\n",
    "    G3( 8, 17, 17, [0.03, 0.001], [1.0, 4.0]),\n",
    "    G3(17, 17, 17, [0.03, 0.001], [1.0, 4.0]),\n",
    "    G3(17,  8,  1, [0.03, 0.001], [1.0, 4.0]),\n",
    "    G3(17,  8,  8, [0.03, 0.001], [1.0, 4.0]),\n",
    "    # cross terms\n",
    "    G2(17, 11, 4.0),\n",
    "    G2(11, 17, 4.0),\n",
    "    G3( 1, 17, 11, [0.03, 0.001], [1.0, 4.0]),\n",
    "    G3( 8, 17, 11, [0.03, 0.001], [1.0, 4.0]),\n",
    "    G3(17, 17, 11, [0.03, 0.001], [1.0, 4.0]),\n",
    "    G3(11, 17, 11, [0.03, 0.001], [1.0, 4.0])]\n",
    "\n",
    "nn_spec = {\n",
    "    1:  compactlist([25, 25]),\n",
    "    8:  compactlist([25, 25]),\n",
    "    17: compactlist([25, 25]),\n",
    "    11: compactlist([25, 25])}\n",
    "\n",
    "model_params = {\n",
    "    'name': 'potential_model',\n",
    "    'params': {\n",
    "        'e_dress': {1: 0.0, 8: 0.0, 11:0.0, 17:0.0},\n",
    "        'e_loss_multiplier': 10,\n",
    "        'e_scale': 27.211386024367243,\n",
    "        'e_unit': 27.211386024367243,\n",
    "        'f_loss_multiplier': 100,\n",
    "        'log_e_per_atom': True,\n",
    "        'no_force_comp': 10,\n",
    "        'separate_errors': True,\n",
    "        'use_e_per_atom': False,\n",
    "        'use_force': True}}\n",
    "\n",
    "network_params = {\n",
    "    'name': 'BPNN',\n",
    "    'params':{\n",
    "        'sf_spec': sf_spec,\n",
    "        'nn_spec': nn_spec,\n",
    "        'rc': 12*bohr2ang,\n",
    "        'cutoff_type': 'f2'}}\n",
    "\n",
    "optimizer = {'class_name': 'EKF',\n",
    "             'config': {\n",
    "                 'learning_rate': 1e-3,\n",
    "                 'q_0': 0.0,\n",
    "                 'q_min': 0.0}}\n",
    "\n",
    "params = {\n",
    "    'network': network_params,\n",
    "    'model': model_params,\n",
    "    'optimizer': optimizer}"
   ]
  },
  {
   "cell_type": "code",
   "execution_count": 59,
   "metadata": {},
   "outputs": [],
   "source": [
    "import pinn, os\n",
    "import numpy as np\n",
    "from pinn.io import load_tfrecord, sparse_batch\n",
    "\n",
    "os.environ['CUDA_VISIBLE_DEVICES']='6'\n",
    "    \n",
    "bpnn = pinn.get_network(params['network'])\n",
    "dataset = load_tfrecord('../trajs/iter1/label.yml')\\\n",
    "    .apply(sparse_batch(1))\\\n",
    "    .map(bpnn.preprocess)\\\n",
    "    .as_numpy_iterator()\n",
    "    \n",
    "\n",
    "fp_range = {int(k[3:]):  [v.min(axis=0), v.max(axis=0)] for k,v in\n",
    "            next(dataset).items() if  k.startswith('fp')}\n",
    "\n",
    "for tensors in dataset:\n",
    "    for k, v in fp_range.items():\n",
    "        v[0] = np.min([v[0], tensors[f'fp_{k}'].min(axis=0)], axis=0).tolist()\n",
    "        v[1] = np.max([v[1], tensors[f'fp_{k}'].max(axis=0)], axis=0).tolist()\n",
    "fp_range = [fp_range[i] for i in range(len(fp_range.keys()))]\n",
    "for fp in fp_range:\n",
    "    fp[1] = (np.array(fp[1])+(np.array(fp[1])-np.array(fp[0])<=1e3)*1e-3).tolist()\n",
    "params['network']['params']['fp_range'] = compactlist(fp_range)\n",
    "params['network']['params']['fp_scale'] = True"
   ]
  },
  {
   "cell_type": "code",
   "execution_count": 76,
   "metadata": {},
   "outputs": [],
   "source": [
    "with open('../inputs/BPNN-EKF.yml', 'w') as f:\n",
    "    yaml.dump(params, f, width=9999, default_flow_style=False)"
   ]
  },
  {
   "cell_type": "code",
   "execution_count": 23,
   "metadata": {},
   "outputs": [
    {
     "data": {
      "text/plain": [
       "<matplotlib.legend.Legend at 0x7f36fd5e3cf8>"
      ]
     },
     "execution_count": 23,
     "metadata": {},
     "output_type": "execute_result"
    },
    {
     "data": {
      "image/png": "[encoded data removed]",
      "text/plain": [
       "<Figure size 432x288 with 1 Axes>"
      ]
     },
     "metadata": {
      "needs_background": "light"
     },
     "output_type": "display_data"
    }
   ],
   "source": [
    "import matplotlib.pyplot as plt\n",
    "for tag in ['3_3','3_4','4_4','3_2','4_2','2_2']:\n",
    "    rdf = np.loadtxt('/home/yunqi/proj_cond/pt_nacl_const/results/210426/'\n",
    "                     f'512_0percconst/5mol/rdf_{tag}.dat')\n",
    "    plt.plot(rdf[:,0], rdf[:,1], label=tag)\n",
    "plt.xlim(2,6)\n",
    "plt.legend()"
   ]
  },
  {
   "cell_type": "markdown",
   "metadata": {},
   "source": [
    "## G2 symmetry function\n",
    "\n",
    "| I  | J | $r_s\\ [Å]$ | $\\eta\\ [Å^{-2}]$                             |\n",
    "|----|---|------------|----------------------------------------------|\n",
    "| H  | H | `0.000 `   | `0.003571, 0.03571, 0.1071, 0.2143`          |\n",
    "|    |   | `1.005 `   | `0.5357,   1.071,   2.143,  5.357 `          |\n",
    "| H  | O | `0.000 `   | `0.003571, 0.03571, 0.1071, 0.2143`          |\n",
    "|    |   | `0.4763`   | `0.5357,   1.071,   2.143,  5.357 `          |\n",
    "| O  | O | `0.000 `   | `0.003571, 0.03571, 0.1071, 0.2143`          |\n",
    "|    |   | `2.117 `   | `0.5357,   1.071,   2.143,  5.357 `          |\n",
    "| Na | H | `0.000 `   | `0.003571, 0.03571, 0.1071, 0.2500, 0.05357` |\n",
    "|    |   | `1.058 `   | `0.5357,   1.071,   2.143,  5.357 `          |\n",
    "| Na | O | `0.000 `   | `0.003571, 0.03571, 0.1071, 0.2500, 0.05357` |\n",
    "|    |   | `1.852 `   | `0.5357,   1.071,   2.143,  5.357 `          |\n",
    "\n"
   ]
  }
 ],
 "metadata": {
  "kernelspec": {
   "display_name": "PiNN TF2",
   "language": "python",
   "name": "pinn-tf2"
  },
  "language_info": {
   "codemirror_mode": {
    "name": "ipython",
    "version": 3
   },
   "file_extension": ".py",
   "mimetype": "text/x-python",
   "name": "python",
   "nbconvert_exporter": "python",
   "pygments_lexer": "ipython3",
   "version": "3.6.10"
  }
 },
 "nbformat": 4,
 "nbformat_minor": 4
}
